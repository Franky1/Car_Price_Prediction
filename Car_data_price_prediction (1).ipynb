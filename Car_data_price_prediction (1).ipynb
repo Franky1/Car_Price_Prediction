{
  "cells": [
    {
      "cell_type": "code",
      "execution_count": null,
      "id": "dab20b5e",
      "metadata": {
        "id": "dab20b5e"
      },
      "outputs": [],
      "source": [
        "#import standard libraries\n",
        "import pandas as pd\n",
        "import numpy as np\n",
        "import seaborn as sns\n",
        "import matplotlib.pyplot as plt\n",
        "import plotly.express as px\n",
        "from sklearn.model_selection import train_test_split\n",
        "from sklearn.preprocessing import StandardScaler\n",
        "from sklearn.linear_model import LinearRegression\n",
        "from sklearn.metrics import accuracy_score"
      ]
    },
    {
      "cell_type": "code",
      "source": [
        "from google.colab import files\n",
        " \n",
        " \n",
        "uploaded = files.upload()"
      ],
      "metadata": {
        "id": "zBv-HzrNaQyl"
      },
      "id": "zBv-HzrNaQyl",
      "execution_count": null,
      "outputs": []
    },
    {
      "cell_type": "code",
      "execution_count": null,
      "id": "a01c5564",
      "metadata": {
        "id": "a01c5564"
      },
      "outputs": [],
      "source": [
        "data=pd.read_csv('2. Cars Data1.csv')\n",
        "data.head()"
      ]
    },
    {
      "cell_type": "code",
      "execution_count": null,
      "id": "f0728dbb",
      "metadata": {
        "id": "f0728dbb"
      },
      "outputs": [],
      "source": [
        "data.shape"
      ]
    },
    {
      "cell_type": "code",
      "execution_count": null,
      "id": "b3a81173",
      "metadata": {
        "id": "b3a81173"
      },
      "outputs": [],
      "source": [
        "data.describe()"
      ]
    },
    {
      "cell_type": "code",
      "execution_count": null,
      "id": "c0184389",
      "metadata": {
        "id": "c0184389"
      },
      "outputs": [],
      "source": [
        "data.info()"
      ]
    },
    {
      "cell_type": "code",
      "execution_count": null,
      "id": "031fb149",
      "metadata": {
        "id": "031fb149"
      },
      "outputs": [],
      "source": [
        "data.columns"
      ]
    },
    {
      "cell_type": "code",
      "execution_count": null,
      "id": "7ae038fb",
      "metadata": {
        "id": "7ae038fb"
      },
      "outputs": [],
      "source": [
        "car_type=data['Type'].value_counts()\n",
        "ax=plt.axes()\n",
        "ax.set(facecolor='pink')\n",
        "sns.set(rc={'figure.figsize':(15,10)},style='darkgrid')\n",
        "ax.set_title(\"No of car models in the dataset\",fontsize=15,fontweight=\"bold\")\n",
        "sns.barplot(y=car_type.index,x=car_type,orient='h',palette=\"rainbow\",saturation=1)\n",
        "plt.xlabel('# Count of the each model cars in our dataset')\n",
        "plt.ylabel('Car models')\n",
        "plt.show()"
      ]
    },
    {
      "cell_type": "code",
      "execution_count": null,
      "id": "9867a78a",
      "metadata": {
        "id": "9867a78a"
      },
      "outputs": [],
      "source": [
        "car_type=data['Origin'].value_counts()\n",
        "ax=plt.axes()\n",
        "ax.set(facecolor='black')\n",
        "sns.set(rc={'figure.figsize':(11,5)},style='darkgrid')\n",
        "ax.set_title(\"No of the the countrys in our dataset\",fontsize=15,fontweight=\"bold\")\n",
        "sns.barplot(y=car_type.index,x=car_type,orient='h',palette=['red','blue','pink'],saturation=1)\n",
        "plt.xlabel('# Count of the origin countrys')\n",
        "plt.ylabel('Countrys origin')\n",
        "plt.show()"
      ]
    },
    {
      "cell_type": "code",
      "execution_count": null,
      "id": "236ee8bf",
      "metadata": {
        "id": "236ee8bf"
      },
      "outputs": [],
      "source": [
        "car_type=data['Make'].value_counts()\n",
        "ax=plt.axes()\n",
        "ax.set(facecolor='green')\n",
        "sns.set(rc={'figure.figsize':(15,9)},style='darkgrid')\n",
        "ax.set_title(\"No of the car brand in the dataset\",fontsize=15,fontweight=\"bold\")\n",
        "sns.barplot(y=car_type.index,x=car_type,orient='h',palette='rainbow',saturation=1)\n",
        "plt.yticks(rotation=48)\n",
        "plt.xlabel('# Count of the car brand names')\n",
        "plt.ylabel('Count of the car brand')\n",
        "plt.show()"
      ]
    },
    {
      "cell_type": "code",
      "execution_count": null,
      "id": "74ccd3cd",
      "metadata": {
        "id": "74ccd3cd"
      },
      "outputs": [],
      "source": [
        "car_model=data['Model'].value_counts()[:30]\n",
        "ax=plt.axes()\n",
        "ax.set(facecolor='maroon')\n",
        "sns.set(rc={'figure.figsize':(17,9)},style='darkgrid')\n",
        "ax.set_title('different car models in the dataset',fontsize=15,fontweight='bold')\n",
        "sns.barplot(y=car_model.index,x=car_model,orient='h',palette='rainbow',saturation=1)\n",
        "plt.xlabel('Count of the different car model in the data')\n",
        "plt.ylabel('car models')\n",
        "plt.show()"
      ]
    },
    {
      "cell_type": "code",
      "execution_count": null,
      "id": "ede873e2",
      "metadata": {
        "id": "ede873e2"
      },
      "outputs": [],
      "source": [
        "data['MSRP']=data['MSRP'].str.replace(\"$\", \" \")\n",
        "data['Invoice']=data['Invoice'].str.replace(\"$\",\" \")"
      ]
    },
    {
      "cell_type": "code",
      "execution_count": null,
      "id": "77c0075d",
      "metadata": {
        "id": "77c0075d"
      },
      "outputs": [],
      "source": [
        "data.head()"
      ]
    },
    {
      "cell_type": "code",
      "execution_count": null,
      "id": "e5552f61",
      "metadata": {
        "id": "e5552f61"
      },
      "outputs": [],
      "source": [
        "car_drive=data['DriveTrain'].value_counts()\n",
        "car_drive"
      ]
    },
    {
      "cell_type": "code",
      "execution_count": null,
      "id": "96dd7238",
      "metadata": {
        "id": "96dd7238"
      },
      "outputs": [],
      "source": [
        "\n",
        "ax=plt.axes()\n",
        "ax.set_facecolor('violet')\n",
        "ax.set_title('The vehicle driven types',fontsize=20,fontweight='bold',loc='right')\n",
        "plt.pie(car_drive,colors=['blue','pink','green'],autopct='%1.2f%%')\n",
        "plt.show()"
      ]
    },
    {
      "cell_type": "code",
      "execution_count": null,
      "id": "e6173a74",
      "metadata": {
        "id": "e6173a74"
      },
      "outputs": [],
      "source": [
        "make_type=data.groupby(['Make','Type']).size().reset_index().rename(columns={0:'diifernt_type_makes'})\n",
        "make_type.head()"
      ]
    },
    {
      "cell_type": "code",
      "execution_count": null,
      "id": "f638128d",
      "metadata": {
        "id": "f638128d"
      },
      "outputs": [],
      "source": [
        "ax=plt.axes()\n",
        "ax.set(facecolor='skyblue')\n",
        "sns.set(rc={'figure.figsize':(17,9)},style='darkgrid')\n",
        "ax.set_title('different car brad have differnt types prices',fontsize=15,fontweight='bold')\n",
        "sns.barplot(x='Make',y='diifernt_type_makes',hue='Type',data=make_type[:50],palette='rainbow')\n",
        "plt.xlabel('Car Brands')\n",
        "plt.ylabel('Count the cars')\n",
        "plt.show()"
      ]
    },
    {
      "cell_type": "code",
      "execution_count": null,
      "id": "712922a6",
      "metadata": {
        "id": "712922a6"
      },
      "outputs": [],
      "source": [
        "make_origin=data.groupby(['Make','Origin']).size().reset_index().rename(columns={0:'diifernt_origin_makes'})\n",
        "make_origin.head()"
      ]
    },
    {
      "cell_type": "code",
      "execution_count": null,
      "id": "473693c9",
      "metadata": {
        "id": "473693c9"
      },
      "outputs": [],
      "source": [
        "ax=plt.axes()\n",
        "ax.set(facecolor='yellow')\n",
        "sns.set(rc={'figure.figsize':(17,9)},style='darkgrid')\n",
        "ax.set_title('different car brad with high sales rate in differnt origin',fontsize=15,fontweight='bold')\n",
        "sns.barplot(x='Make',y='diifernt_origin_makes',hue='Origin',data=make_origin[:50],palette='rainbow')\n",
        "plt.xticks(rotation=45)\n",
        "plt.xlabel('Car Brands')\n",
        "plt.ylabel('Count the cars')\n",
        "plt.show()"
      ]
    },
    {
      "cell_type": "code",
      "execution_count": null,
      "id": "1861a4d2",
      "metadata": {
        "id": "1861a4d2"
      },
      "outputs": [],
      "source": [
        "make_driveTrain=data.groupby(['Make','DriveTrain']).size().reset_index().rename(columns={0:'diifernt_make_driveTrain'})\n",
        "make_driveTrain.head()"
      ]
    },
    {
      "cell_type": "code",
      "execution_count": null,
      "id": "9678207f",
      "metadata": {
        "id": "9678207f"
      },
      "outputs": [],
      "source": [
        "ax=plt.axes()\n",
        "ax.set(facecolor='orange')\n",
        "sns.set(rc={'figure.figsize':(17,9)},style='darkgrid')\n",
        "ax.set_title('different car brad with different drivtrains ',fontsize=25,fontweight='bold')\n",
        "sns.barplot(x='Make',y='diifernt_make_driveTrain',hue='DriveTrain',data=make_driveTrain[:50],palette=['black','red','green'])\n",
        "plt.xticks(rotation=45)\n",
        "plt.xlabel('Car Brands')\n",
        "plt.ylabel('Count the cars')\n",
        "plt.show()"
      ]
    },
    {
      "cell_type": "code",
      "execution_count": null,
      "id": "a330a261",
      "metadata": {
        "id": "a330a261"
      },
      "outputs": [],
      "source": [
        "make_model_type=data.groupby(['Make','Model']).size().reset_index().rename(columns={0:'diifernt_make_driveTrain'})\n",
        "make_model_type.head(10)"
      ]
    },
    {
      "cell_type": "code",
      "execution_count": null,
      "id": "267f1004",
      "metadata": {
        "id": "267f1004"
      },
      "outputs": [],
      "source": [
        "data.isna().sum()"
      ]
    },
    {
      "cell_type": "code",
      "execution_count": null,
      "id": "b19e68d6",
      "metadata": {
        "id": "b19e68d6"
      },
      "outputs": [],
      "source": [
        "data.dropna(inplace=True)"
      ]
    },
    {
      "cell_type": "code",
      "execution_count": null,
      "id": "5e3c8197",
      "metadata": {
        "id": "5e3c8197"
      },
      "outputs": [],
      "source": [
        "data['MSRP']=(data['MSRP'].str.split()).apply(lambda x: float(x[0].replace(',','')))\n",
        "data['Invoice']=(data['Invoice'].str.split()).apply(lambda x: float(x[0].replace(',','')))"
      ]
    },
    {
      "cell_type": "code",
      "execution_count": null,
      "id": "04eb4445",
      "metadata": {
        "id": "04eb4445"
      },
      "outputs": [],
      "source": [
        "data.head()"
      ]
    },
    {
      "cell_type": "code",
      "execution_count": null,
      "id": "0b816e7f",
      "metadata": {
        "id": "0b816e7f"
      },
      "outputs": [],
      "source": [
        "ax=plt.axes()\n",
        "ax.set(facecolor='grey')\n",
        "sns.set(rc={'figure.figsize':(17,9)},style='darkgrid')\n",
        "ax.set_title('Distribution of the car price in $ ',fontsize=25,fontweight='bold')\n",
        "sns.distplot(data['MSRP'])\n",
        "plt.xticks(rotation=45)\n",
        "plt.xlabel('Car price')\n",
        "plt.ylabel('Count of the values')\n",
        "plt.show()"
      ]
    },
    {
      "cell_type": "code",
      "execution_count": null,
      "id": "75f8d485",
      "metadata": {
        "id": "75f8d485"
      },
      "outputs": [],
      "source": [
        "ax=plt.axes()\n",
        "ax.set(facecolor='red')\n",
        "sns.set(rc={'figure.figsize':(17,9)},style='darkgrid')\n",
        "ax.set_title('Distribution of the car invoice in $ ',fontsize=25,fontweight='bold')\n",
        "sns.distplot(data['Invoice'],color='black',hist=True)\n",
        "plt.xticks(rotation=45)\n",
        "plt.xlabel('Car invoice')\n",
        "plt.ylabel('Count of the values')\n",
        "plt.show()"
      ]
    },
    {
      "cell_type": "code",
      "execution_count": null,
      "id": "364d2d6e",
      "metadata": {
        "id": "364d2d6e"
      },
      "outputs": [],
      "source": [
        "make_msrp=data.groupby(['Make','MSRP']).size().reset_index().rename(columns={0:'diifernt_make_msrp'})\n",
        "make_msrp.head()"
      ]
    },
    {
      "cell_type": "code",
      "execution_count": null,
      "id": "d011607a",
      "metadata": {
        "id": "d011607a"
      },
      "outputs": [],
      "source": [
        "ax=plt.axes()\n",
        "ax.set(facecolor='red')\n",
        "sns.set(rc={'figure.figsize':(17,9)},style='darkgrid')\n",
        "ax.set_title('Distribution of the car invoice in $ ',fontsize=25,fontweight='bold')\n",
        "sns.distplot(make_msrp['MSRP'],color='black',hist=True,rug_kws={\"color\": \"g\"},kde_kws={\"color\": \"k\", \"lw\": 3, \"label\": \"KDE\"},hist_kws={\"histtype\": \"step\", \"linewidth\": 3,\"alpha\": 1, \"color\": \"g\"})\n",
        "plt.xticks(rotation=45)\n",
        "plt.xlabel('Car invoice')\n",
        "plt.ylabel('Count of the values')\n",
        "plt.show()"
      ]
    },
    {
      "cell_type": "code",
      "source": [
        "data.head()"
      ],
      "metadata": {
        "id": "n098XuxysEMB"
      },
      "id": "n098XuxysEMB",
      "execution_count": null,
      "outputs": []
    },
    {
      "cell_type": "code",
      "source": [
        "data.to_csv('Car_data.csv')"
      ],
      "metadata": {
        "id": "uvzvDOuZsGVc"
      },
      "id": "uvzvDOuZsGVc",
      "execution_count": null,
      "outputs": []
    },
    {
      "cell_type": "code",
      "execution_count": null,
      "id": "350d599d",
      "metadata": {
        "id": "350d599d"
      },
      "outputs": [],
      "source": [
        "X=data.drop(['MSRP'],axis=1)\n",
        "y=data['MSRP']"
      ]
    },
    {
      "cell_type": "code",
      "execution_count": null,
      "id": "eb692eb7",
      "metadata": {
        "id": "eb692eb7"
      },
      "outputs": [],
      "source": [
        "from sklearn.preprocessing import OneHotEncoder\n",
        "one_hot=OneHotEncoder()\n",
        "X=one_hot.fit_transform(X)\n"
      ]
    },
    {
      "cell_type": "code",
      "execution_count": null,
      "id": "3a401dec",
      "metadata": {
        "id": "3a401dec"
      },
      "outputs": [],
      "source": [
        "X_train,X_test,y_train,y_test=train_test_split(X,y,test_size=0.3,random_state=42)"
      ]
    },
    {
      "cell_type": "code",
      "execution_count": null,
      "id": "32d5a4b3",
      "metadata": {
        "id": "32d5a4b3"
      },
      "outputs": [],
      "source": [
        "linear=LinearRegression(fit_intercept=True,\n",
        "    copy_X=False,\n",
        "    n_jobs=100)\n",
        "linear.fit(X_train,y_train,sample_weight=10)"
      ]
    },
    {
      "cell_type": "code",
      "source": [
        "pred=linear.predict(X_test)"
      ],
      "metadata": {
        "id": "AHlP9vI4CXKJ"
      },
      "id": "AHlP9vI4CXKJ",
      "execution_count": null,
      "outputs": []
    },
    {
      "cell_type": "code",
      "execution_count": null,
      "id": "a7f1bc07",
      "metadata": {
        "id": "a7f1bc07"
      },
      "outputs": [],
      "source": [
        "print(\"The test score is {} \".format(linear.score(X_test,y_test)))\n",
        "print(\"The train score is {} \".format(linear.score(X_train,y_train)))\n"
      ]
    },
    {
      "cell_type": "code",
      "execution_count": null,
      "id": "be4a89a7",
      "metadata": {
        "id": "be4a89a7"
      },
      "outputs": [],
      "source": [
        "from sklearn.tree import DecisionTreeRegressor\n",
        "tree=DecisionTreeRegressor(criterion='squared_error',\n",
        "    splitter='best',\n",
        "    max_depth=50,\n",
        "    min_samples_split=5,\n",
        "    min_samples_leaf=1,\n",
        "    min_weight_fraction_leaf=0.0,\n",
        "    max_features=200,\n",
        "    random_state=42,\n",
        "    max_leaf_nodes=None,\n",
        "    min_impurity_decrease=0.0,\n",
        "    ccp_alpha=1.0)\n",
        "tree.fit(X_train,y_train)"
      ]
    },
    {
      "cell_type": "code",
      "source": [
        "print(\"The test score is {} \".format(tree.score(X_test,y_test)))\n",
        "print(\"The train score is {} \".format(tree.score(X_train,y_train)))"
      ],
      "metadata": {
        "id": "UMVTAUVHEeix"
      },
      "id": "UMVTAUVHEeix",
      "execution_count": null,
      "outputs": []
    },
    {
      "cell_type": "code",
      "execution_count": null,
      "id": "6a07e054",
      "metadata": {
        "id": "6a07e054"
      },
      "outputs": [],
      "source": [
        "from sklearn.linear_model import Lasso\n",
        "linear1=Lasso(alpha=1.5, precompute=True, copy_X=True, max_iter=1000, tol=0.0001, warm_start=True, positive=False, random_state=42, selection='cyclic')\n",
        "linear1.fit(X_train,y_train)"
      ]
    },
    {
      "cell_type": "code",
      "execution_count": null,
      "id": "32aba510",
      "metadata": {
        "id": "32aba510"
      },
      "outputs": [],
      "source": [
        "print(\"The test score is {} \".format(linear1.score(X_test,y_test)*100))\n",
        "print(\"The train score is {} \".format(linear1.score(X_train,y_train)*100))"
      ]
    },
    {
      "cell_type": "code",
      "execution_count": null,
      "id": "1831ff04",
      "metadata": {
        "id": "1831ff04"
      },
      "outputs": [],
      "source": [
        "params={'fit_intercept':[True,False],'normalize':[True,False],'copy_X':[True,False],'n_jobs':[100,200,300,400,500]}\n",
        "    "
      ]
    },
    {
      "cell_type": "code",
      "execution_count": null,
      "id": "62da35c9",
      "metadata": {
        "id": "62da35c9"
      },
      "outputs": [],
      "source": [
        "from sklearn.model_selection import GridSearchCV,RandomizedSearchCV\n",
        "grid=GridSearchCV(estimator=linear,param_grid=params,scoring=None,\n",
        "    n_jobs=10,\n",
        "    refit=True,\n",
        "    cv=5)\n",
        "grid.fit(X_train,y_train)"
      ]
    },
    {
      "cell_type": "code",
      "execution_count": null,
      "id": "d3ab82a0",
      "metadata": {
        "id": "d3ab82a0"
      },
      "outputs": [],
      "source": [
        "grid.score(X_test,y_test)"
      ]
    },
    {
      "cell_type": "code",
      "source": [
        "from sklearn.ensemble import RandomForestRegressor\n",
        "random=RandomForestRegressor(n_estimators=150, criterion='squared_error', max_depth=10, min_samples_split=6, min_samples_leaf=9,n_jobs=30,max_features=1.0, max_leaf_nodes=5, min_impurity_decrease=0.0,)\n",
        "random.fit(X_train,y_train)"
      ],
      "metadata": {
        "id": "sk2V6ZkHvHYp"
      },
      "id": "sk2V6ZkHvHYp",
      "execution_count": null,
      "outputs": []
    },
    {
      "cell_type": "code",
      "source": [
        "random.score(X_test,y_test)"
      ],
      "metadata": {
        "id": "pHw4Xnz-yGoQ"
      },
      "id": "pHw4Xnz-yGoQ",
      "execution_count": null,
      "outputs": []
    },
    {
      "cell_type": "code",
      "source": [
        "grid1=GridSearchCV(estimator=linear1,param_grid={'alpha':[0.02,0.05,1.05,2.05]},\n",
        "    n_jobs=15,\n",
        "    refit=True,\n",
        "    cv=5)\n",
        "grid1.fit(X_train,y_train)"
      ],
      "metadata": {
        "id": "xS_5NJkV6OF_"
      },
      "id": "xS_5NJkV6OF_",
      "execution_count": null,
      "outputs": []
    },
    {
      "cell_type": "code",
      "source": [
        "print(\"The test score is {} \".format(grid1.score(X_test,y_test)))\n",
        "print(\"The train score is {} \".format(grid1.score(X_train,y_train)))"
      ],
      "metadata": {
        "id": "yuLggdzJE-ri"
      },
      "id": "yuLggdzJE-ri",
      "execution_count": null,
      "outputs": []
    },
    {
      "cell_type": "code",
      "source": [
        "randomizes=RandomizedSearchCV(estimator=linear, param_distributions=params,  n_iter=30, scoring=None, n_jobs=10, refit=True, cv=6, verbose=0, pre_dispatch=\"2*n_jobs\", random_state=42, error_score=np.nan, return_train_score=False)\n",
        "randomizes.fit(X_train,y_train)"
      ],
      "metadata": {
        "id": "auK3Oi6_ZCRP"
      },
      "id": "auK3Oi6_ZCRP",
      "execution_count": null,
      "outputs": []
    },
    {
      "cell_type": "code",
      "source": [
        "print(\"The test score is {} \".format(randomizes.score(X_test,y_test)))\n",
        "print(\"The train score is {} \".format(randomizes.score(X_train,y_train)))"
      ],
      "metadata": {
        "id": "lkc0dmmEay7q"
      },
      "id": "lkc0dmmEay7q",
      "execution_count": null,
      "outputs": []
    },
    {
      "cell_type": "code",
      "source": [
        "randomizes1=RandomizedSearchCV(estimator=linear1, param_distributions={'alpha':[0.02,0.05,1.05,2.05],'fit_intercept':[True,False],'normalize':[True,False],'selection':['cyclic','random']},  n_iter=30, scoring=None, n_jobs=30, refit=True, cv=6, verbose=3, pre_dispatch=\"2*n_jobs\", random_state=42, error_score=np.nan, return_train_score=False)\n",
        "randomizes1.fit(X_train,y_train)"
      ],
      "metadata": {
        "id": "Uhu4So2ea9LB"
      },
      "id": "Uhu4So2ea9LB",
      "execution_count": null,
      "outputs": []
    },
    {
      "cell_type": "code",
      "source": [
        "print(\"The test score is {} \".format(randomizes1.score(X_test,y_test)))\n",
        "print(\"The train score is {} \".format(randomizes1.score(X_train,y_train)))"
      ],
      "metadata": {
        "id": "eIqmFVM8cvCk"
      },
      "id": "eIqmFVM8cvCk",
      "execution_count": null,
      "outputs": []
    },
    {
      "cell_type": "code",
      "source": [
        ""
      ],
      "metadata": {
        "id": "9ZTMoW5PdGmu"
      },
      "id": "9ZTMoW5PdGmu",
      "execution_count": null,
      "outputs": []
    }
  ],
  "metadata": {
    "kernelspec": {
      "display_name": "Python 3 (ipykernel)",
      "language": "python",
      "name": "python3"
    },
    "language_info": {
      "codemirror_mode": {
        "name": "ipython",
        "version": 3
      },
      "file_extension": ".py",
      "mimetype": "text/x-python",
      "name": "python",
      "nbconvert_exporter": "python",
      "pygments_lexer": "ipython3",
      "version": "3.9.12"
    },
    "colab": {
      "name": "Car data price prediction.ipynb",
      "private_outputs": true,
      "provenance": []
    },
    "accelerator": "GPU",
    "gpuClass": "standard"
  },
  "nbformat": 4,
  "nbformat_minor": 5
}